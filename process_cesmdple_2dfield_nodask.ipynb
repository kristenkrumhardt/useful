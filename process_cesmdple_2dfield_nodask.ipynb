{
 "cells": [
  {
   "cell_type": "code",
   "execution_count": 1,
   "metadata": {},
   "outputs": [],
   "source": [
    "#translates Steve Yeager's NCL scripts into python w/o using dask\n",
    "#Processes and bias corrects CESM-DPLE output and writes out as a netcdf4\n",
    "#Will work for CAM and POP fields\n",
    "#Should be able to (eventually) handle annual, seasonal, and monthly means\n",
    "#this version does not use dask b/c throughput is the main issue, so limitation\n",
    "#comes from I/O, and adding more processors does not speed things up\n",
    "\n",
    "#I've marked in ALL CAPS places that need to be altered\n",
    "#-Liz Maroon 9/3/2018\n",
    "\n",
    "#Updated for xarray v0.11.2, 2/15/19\n",
    "\n",
    "#import packages\n",
    "import xarray as xr                   #for netcdf manipulation\n",
    "import numpy as np                    #for numerics\n",
    "from collections import OrderedDict   #for setting netcdf attributes\n",
    "import os                             #these last three packages used to detect username/script location\n",
    "import pwd\n",
    "import sys\n",
    "import glob\n",
    "import datetime\n",
    "\n",
    "%matplotlib inline"
   ]
  },
  {
   "cell_type": "code",
   "execution_count": 5,
   "metadata": {},
   "outputs": [],
   "source": [
    "#SET VARIABLE INFO HERE:\n",
    "VAR='HMXL' #VAR='TS'\n",
    "MODEL='OCN'# MODEL='ATM' #SET HERE IF PROCESSING CAM OR POP OUTPUT - can write catches for LND/ICE later as needed\n",
    "WHICHMEAN='ANN'#'MON'  #For ocean monthly means, use a with-dask script #can also do any mean of consecutive months\n",
    "\n",
    "\n",
    "#WHERE ARE DPLE FILES CURRENTLY:\n",
    "DPLE_DIR='/glade/scratch/kristenk/dple/netcdf'\n",
    "\n",
    "#WHERE AND WHAT DO YOU WANT TO CALL OUTPUT FILES:\n",
    "RAWDPOUT='/glade/scratch/kristenk/dple_stuff/CESM-DP-LE.'+VAR+'.'+WHICHMEAN.lower()+'mean.nc'\n",
    "DRIFTOUT='/glade/scratch/kristenk/dple_stuff/CESM-DP-LE.'+VAR+'.'+WHICHMEAN.lower()+'mean.drift.nc'\n",
    "ANOMOUT='/glade/scratch/kristenk/dple_stuff/CESM-DP-LE.'+VAR+'.'+WHICHMEAN.lower()+'mean.anom.nc'\n"
   ]
  },
  {
   "cell_type": "code",
   "execution_count": 6,
   "metadata": {},
   "outputs": [],
   "source": [
    "#Make array for start years\n",
    "first_syear=1954\n",
    "last_syear=2015\n",
    "S=xr.DataArray(np.arange(first_syear+1,last_syear+1.5,1,dtype='int'),dims=['S'],coords={'S':np.arange(first_syear+1,last_syear+1.5,1,dtype='int')},name='S')\n"
   ]
  },
  {
   "cell_type": "code",
   "execution_count": 7,
   "metadata": {},
   "outputs": [],
   "source": [
    "#fix for time bounds\n",
    "if MODEL=='OCN': tbname='time_bound'\n",
    "elif MODEL=='ATM': tbname='time_bnds'"
   ]
  },
  {
   "cell_type": "markdown",
   "metadata": {},
   "source": [
    "#function for seasonal means - come back to later\n",
    "def seamean(dataarray,sea):\n",
    "    monthord='JFMAMJJASOND'\n",
    "    #pri\n",
    "    #mon1=sea[0]\n",
    "    for m2 in monthord:\n",
    "        if m1==m2: break\n",
    "    #mon2=sea[1]\n",
    "    #if \n",
    "monthord='JFMAMJJASOND'\n",
    "for m2 in monthord:\n",
    "    if "
   ]
  },
  {
   "cell_type": "code",
   "execution_count": 8,
   "metadata": {},
   "outputs": [
    {
     "name": "stdout",
     "output_type": "stream",
     "text": [
      "1954\n",
      "1955\n",
      "1956\n",
      "1957\n",
      "1958\n",
      "1959\n",
      "1960\n",
      "1961\n",
      "1962\n",
      "1963\n",
      "1964\n",
      "1965\n",
      "1966\n",
      "1967\n",
      "1968\n",
      "1969\n",
      "1970\n",
      "1971\n",
      "1972\n",
      "1973\n",
      "1974\n",
      "1975\n",
      "1976\n",
      "1977\n",
      "1978\n",
      "1979\n",
      "1980\n",
      "1981\n",
      "1982\n",
      "1983\n",
      "1984\n",
      "1985\n",
      "1986\n",
      "1987\n",
      "1988\n",
      "1989\n",
      "1990\n",
      "1991\n",
      "1992\n",
      "1993\n",
      "1994\n",
      "1995\n",
      "1996\n",
      "1997\n",
      "1998\n",
      "1999\n",
      "2000\n",
      "2001\n",
      "2002\n",
      "2003\n",
      "2004\n",
      "2005\n",
      "2006\n",
      "2007\n",
      "2008\n",
      "2009\n",
      "2010\n",
      "2011\n",
      "2012\n",
      "2013\n",
      "2014\n",
      "2015\n",
      "2016\n"
     ]
    },
    {
     "ename": "OSError",
     "evalue": "no files to open",
     "output_type": "error",
     "traceback": [
      "\u001b[0;31m---------------------------------------------------------------------------\u001b[0m",
      "\u001b[0;31mOSError\u001b[0m                                   Traceback (most recent call last)",
      "\u001b[0;32m<timed exec>\u001b[0m in \u001b[0;36m<module>\u001b[0;34m\u001b[0m\n",
      "\u001b[0;32m/glade/work/kristenk/miniconda/envs/analysis/lib/python3.7/site-packages/xarray/backends/api.py\u001b[0m in \u001b[0;36mopen_mfdataset\u001b[0;34m(paths, chunks, concat_dim, compat, preprocess, engine, lock, data_vars, coords, autoclose, parallel, **kwargs)\u001b[0m\n\u001b[1;32m    661\u001b[0m \u001b[0;34m\u001b[0m\u001b[0m\n\u001b[1;32m    662\u001b[0m     \u001b[0;32mif\u001b[0m \u001b[0;32mnot\u001b[0m \u001b[0mpaths\u001b[0m\u001b[0;34m:\u001b[0m\u001b[0;34m\u001b[0m\u001b[0;34m\u001b[0m\u001b[0m\n\u001b[0;32m--> 663\u001b[0;31m         \u001b[0;32mraise\u001b[0m \u001b[0mIOError\u001b[0m\u001b[0;34m(\u001b[0m\u001b[0;34m'no files to open'\u001b[0m\u001b[0;34m)\u001b[0m\u001b[0;34m\u001b[0m\u001b[0;34m\u001b[0m\u001b[0m\n\u001b[0m\u001b[1;32m    664\u001b[0m \u001b[0;34m\u001b[0m\u001b[0m\n\u001b[1;32m    665\u001b[0m     \u001b[0;31m# Coerce 1D input into ND to maintain backwards-compatible API until API\u001b[0m\u001b[0;34m\u001b[0m\u001b[0;34m\u001b[0m\u001b[0;34m\u001b[0m\u001b[0m\n",
      "\u001b[0;31mOSError\u001b[0m: no files to open"
     ]
    }
   ],
   "source": [
    "%%time\n",
    "\n",
    "oceancoords=['TLAT','TLONG']\n",
    "da_list=[]\n",
    "\n",
    "for year in S.values-1:\n",
    "    print(year)\n",
    "    #loadthesefiles=sorted(glob.glob(f\"{DPLE_DIR}/monthly/{VAR}/b.e11.BDP.f09_g16.{year}-11.*.nc\"))\n",
    "    loadthesefiles=sorted(glob.glob(f\"{DPLE_DIR}/b.e11.BDP.f09_g16.{year}-11.*.nc\"))\n",
    "    ds=xr.open_mfdataset(loadthesefiles,concat_dim=\"M\", chunks={\"time\": 122})\n",
    "    ds['time'].values=ds[tbname][0,:,0].values\n",
    "    \n",
    "    ds=ds.assign_coords(M=np.arange(1,len(loadthesefiles)+1,1,dtype='int'))\n",
    "    \n",
    "    #grab attributes first time through looponly:\n",
    "    if year==S[0]:\n",
    "        ncattrs=ds.attrs\n",
    "        varattrs=ds[VAR].attrs\n",
    "        dimattrs={}\n",
    "        for dd in ds.dims:\n",
    "            dimattrs[dd]=ds[dd].attrs\n",
    "        for cc in ds.coords:\n",
    "            dimattrs[cc]=ds[cc].attrs\n",
    "    \n",
    "    #fix for ocean coordinate size xarray bug\n",
    "    if MODEL=='OCN': \n",
    "        for cc in oceancoords:\n",
    "            if len(ds[cc].shape)>2:\n",
    "                tempc=ds[cc][0,:,:].load()\n",
    "                tempd=tempc.dims\n",
    "                ds=ds.drop(cc)\n",
    "                ds=ds.assign_coords(cc=xr.DataArray(tempc.values,coords=[ds[tt].values for tt in tempd],dims=tempd))\n",
    "                ds=ds.rename({'cc':cc})\n",
    "    \n",
    "    da=ds[VAR]\n",
    "    \n",
    "    #removing z_t if present for 2d variable :\n",
    "    if (MODEL=='OCN') and ('z_t' in da.dims):\n",
    "        da=da.isel(z_t=0)\n",
    "        da=da.drop('z_t')\n",
    "    elif ('z_t_150m' in da.dims):\n",
    "        da=da.isel(z_t_150m=0)\n",
    "        da=da.drop('z_t_150m')\n",
    "     \n",
    "    #get rid of any remaining unwanted dims/coords - want to have left only dims of time, M, lat, lon\n",
    "    for dd in da.coords:\n",
    "        if (dd not in oceancoords) and (dd not in da.dims): da=da.drop(dd)\n",
    "\n",
    "    #time mean\n",
    "    if WHICHMEAN=='ANN':\n",
    "        da=da.groupby('time.year').mean('time').isel(year=slice(1,11))  \n",
    "        #Really should be weighting by months - not doing this for now so can check against Steve's scripts\n",
    "        da=da.rename({'year':'L'})  \n",
    "        da['L'].values=np.arange(1,11,1,dtype='int')\n",
    "        \n",
    "    elif WHICHMEAN=='MON':\n",
    "        da=da.rename({'time':'L'})\n",
    "        da['L'].values=np.arange(1,123,1,dtype='int')\n",
    "                \n",
    "    #add here later for seasonal means\n",
    "    \n",
    "    da_list.append(da)\n",
    "    \n",
    "#one one geyser core: time = 1m 9s for 5 S-years\n",
    "#one cheyenne core: time = 50 s for 5 S-years"
   ]
  },
  {
   "cell_type": "code",
   "execution_count": 9,
   "metadata": {},
   "outputs": [
    {
     "name": "stdout",
     "output_type": "stream",
     "text": [
      "CPU times: user 266 ms, sys: 31.1 ms, total: 297 ms\n",
      "Wall time: 297 ms\n"
     ]
    }
   ],
   "source": [
    "%%time\n",
    "\n",
    "#concatenate list into array by dimension S\n",
    "array=xr.concat(da_list,dim=S)\n",
    "#array=xr.DataArray(array,coords={'S':array.S,'M':array.M,'L':array.L,'TLAT':(('nlat','nlon'),array.TLAT.values),'TLONG':(('nlat','nlon'),array.TLONG.values)},dims=array.dims)\n",
    "\n",
    "array=array.transpose('S','L','M','nlat','nlon')\n",
    "\n",
    "#fast step"
   ]
  },
  {
   "cell_type": "code",
   "execution_count": 10,
   "metadata": {},
   "outputs": [
    {
     "name": "stdout",
     "output_type": "stream",
     "text": [
      "CPU times: user 1.23 ms, sys: 0 ns, total: 1.23 ms\n",
      "Wall time: 1.25 ms\n"
     ]
    }
   ],
   "source": [
    "%%time\n",
    "\n",
    "#preparing to turn the DataArray back into a DataSet (so it can be written out as a netcdf)\n",
    "array.name=VAR\n",
    "array.attrs=varattrs\n",
    "dimattrs['S']=OrderedDict([('long_name','start year')])\n",
    "dimattrs['L']=OrderedDict([('long_name','lead year')])\n",
    "dimattrs['M']=OrderedDict([('long_name','ensemble member')])\n",
    "\n",
    "array.attrs=varattrs\n",
    "for cc in array.coords:\n",
    "    array[cc].attrs=dimattrs[cc]\n",
    "\n",
    "#turning DataArray into DataSet and adding ncattrs\n",
    "\n",
    "newds=array.to_dataset()\n",
    "\n",
    "newds.attrs=ncattrs\n",
    "newds.attrs['script']=os.path.basename(sys.argv[0])\n",
    "now=datetime.datetime.now()\n",
    "newds.attrs['history']='created by '+pwd.getpwuid(os.getuid()).pw_name+' on '+str(now)        \n",
    "\n",
    "#fast step"
   ]
  },
  {
   "cell_type": "code",
   "execution_count": null,
   "metadata": {},
   "outputs": [
    {
     "name": "stderr",
     "output_type": "stream",
     "text": [
      "/glade/work/kristenk/miniconda/envs/analysis/lib/python3.7/site-packages/dask/array/numpy_compat.py:28: RuntimeWarning: invalid value encountered in true_divide\n",
      "  x = np.divide(x1, x2, out)\n"
     ]
    }
   ],
   "source": [
    "%%time \n",
    "\n",
    "newds.load()\n",
    "\n",
    "#one geyser core time for 5 S-years: 3 min 19s\n",
    "#one cheyenne core time: 2 min 53s\n",
    "#one geyser core for all S-years: 24 mins"
   ]
  },
  {
   "cell_type": "code",
   "execution_count": null,
   "metadata": {},
   "outputs": [],
   "source": [
    "%%time\n",
    "\n",
    "#writes out DP array\n",
    "newds.to_netcdf(RAWDPOUT,engine='netcdf4')\n",
    "\n",
    "#if already loaded - fast step"
   ]
  },
  {
   "cell_type": "code",
   "execution_count": null,
   "metadata": {},
   "outputs": [],
   "source": [
    "%%time\n",
    "\n",
    "#calculates drift\n",
    "\n",
    "climy0=1964\n",
    "climy1=2014\n",
    "\n",
    "#newds['vtime']=newds['S']+0.5+newds['L']-1\n"
   ]
  },
  {
   "cell_type": "code",
   "execution_count": null,
   "metadata": {},
   "outputs": [],
   "source": [
    "%%time\n",
    "\n",
    "ensmean=newds[VAR].mean('M')\n",
    "\n",
    "vtime=newds['S']+0.5+newds['L']-1\n",
    "vtime.values[~((vtime.values>climy0) & (vtime.values<(climy1+1)))]=np.nan\n",
    "vtime.values[~np.isnan(vtime.values)]=1\n",
    "\n",
    "drift=(ensmean*vtime).mean('S')\n",
    "biascorr=newds[VAR]-drift\n",
    "\n"
   ]
  },
  {
   "cell_type": "code",
   "execution_count": null,
   "metadata": {},
   "outputs": [],
   "source": [
    "%%time\n",
    "\n",
    "ds_drift=drift.to_dataset(name='drift')\n",
    "ds_drift.attrs['climatology']=str(climy0)+\"-\"+str(climy1)+\", computed separately for each lead time\"\n",
    "ds_drift.to_netcdf(DRIFTOUT,engine='netcdf4')\n",
    "\n",
    "#if not preloaded one geyser core 2 min 26s\n",
    "#if loaded, FAST"
   ]
  },
  {
   "cell_type": "code",
   "execution_count": null,
   "metadata": {},
   "outputs": [],
   "source": [
    "%%time\n",
    "\n",
    "ds_anom=biascorr.to_dataset(name='anom')\n",
    "ds_anom.attrs['climatology']=str(climy0)+\"-\"+str(climy1)+\", computed separately for each lead time\"\n",
    "ds_anom.to_netcdf(ANOMOUT,engine='netcdf4')\n",
    "\n",
    "#one geyser core 2 mins 26s if not preloaded\n",
    "#if loaded, fast"
   ]
  },
  {
   "cell_type": "code",
   "execution_count": null,
   "metadata": {},
   "outputs": [],
   "source": []
  },
  {
   "cell_type": "code",
   "execution_count": null,
   "metadata": {},
   "outputs": [],
   "source": []
  },
  {
   "cell_type": "code",
   "execution_count": null,
   "metadata": {},
   "outputs": [],
   "source": []
  },
  {
   "cell_type": "code",
   "execution_count": null,
   "metadata": {},
   "outputs": [],
   "source": []
  },
  {
   "cell_type": "code",
   "execution_count": null,
   "metadata": {},
   "outputs": [],
   "source": []
  },
  {
   "cell_type": "code",
   "execution_count": null,
   "metadata": {},
   "outputs": [],
   "source": []
  },
  {
   "cell_type": "code",
   "execution_count": null,
   "metadata": {},
   "outputs": [],
   "source": []
  },
  {
   "cell_type": "code",
   "execution_count": null,
   "metadata": {},
   "outputs": [],
   "source": []
  },
  {
   "cell_type": "code",
   "execution_count": null,
   "metadata": {},
   "outputs": [],
   "source": []
  }
 ],
 "metadata": {
  "kernelspec": {
   "display_name": "CMIP6 2019.10",
   "language": "python",
   "name": "cmip6-201910"
  },
  "language_info": {
   "codemirror_mode": {
    "name": "ipython",
    "version": 3
   },
   "file_extension": ".py",
   "mimetype": "text/x-python",
   "name": "python",
   "nbconvert_exporter": "python",
   "pygments_lexer": "ipython3",
   "version": "3.7.8"
  }
 },
 "nbformat": 4,
 "nbformat_minor": 4
}
